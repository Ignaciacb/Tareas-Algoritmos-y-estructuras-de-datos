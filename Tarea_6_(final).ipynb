{
  "nbformat": 4,
  "nbformat_minor": 0,
  "metadata": {
    "colab": {
      "provenance": [],
      "include_colab_link": true
    },
    "kernelspec": {
      "display_name": "Python 3 (ipykernel)",
      "language": "python",
      "name": "python3"
    },
    "language_info": {
      "codemirror_mode": {
        "name": "ipython",
        "version": 3
      },
      "file_extension": ".py",
      "mimetype": "text/x-python",
      "name": "python",
      "nbconvert_exporter": "python",
      "pygments_lexer": "ipython3",
      "version": "3.9.6"
    }
  },
  "cells": [
    {
      "cell_type": "markdown",
      "metadata": {
        "id": "view-in-github",
        "colab_type": "text"
      },
      "source": [
        "<a href=\"https://colab.research.google.com/github/Ignaciacb/Tareas-Algoritmos-y-estructuras-de-datos/blob/main/Tarea_6_(final).ipynb\" target=\"_parent\"><img src=\"https://colab.research.google.com/assets/colab-badge.svg\" alt=\"Open In Colab\"/></a>"
      ]
    },
    {
      "cell_type": "markdown",
      "metadata": {
        "id": "jbGTgr_lRz25"
      },
      "source": [
        "# CC3001 Otoño 2025 Tarea 6 [Ignacia Cejas Barra]\n",
        "# Árboles Cartesianos\n",
        "\n",
        "### Profesores\n",
        "Sección 1 Iván Sipirán •\n",
        "Sección 2 Nelson Baloian •\n",
        "Sección 3 Patricio Poblete\n",
        "\n",
        "\n"
      ]
    },
    {
      "cell_type": "markdown",
      "metadata": {
        "id": "EDxe3m7-R8N0"
      },
      "source": [
        "En esta tarea usted debe implementar árboles cartesianos, con las operaciones de insertar y eliminar. Usted debe entregar un link a su tarea en `colab`.\n",
        "\n",
        "Antes de probar su implementación, ejecute primero las siguientes líneas de código."
      ]
    },
    {
      "cell_type": "code",
      "metadata": {
        "colab": {
          "base_uri": "https://localhost:8080/"
        },
        "id": "3dtDidJvVnah",
        "outputId": "958ba032-1df6-42a8-82d0-e6193f890511"
      },
      "source": [
        "!pip install aed-utilities\n",
        "\n",
        "import aed_utilities as aed"
      ],
      "execution_count": null,
      "outputs": [
        {
          "output_type": "stream",
          "name": "stdout",
          "text": [
            "Collecting aed-utilities\n",
            "  Downloading aed_utilities-0.5.6.tar.gz (4.3 kB)\n",
            "  Preparing metadata (setup.py) ... \u001b[?25l\u001b[?25hdone\n",
            "Collecting validators (from aed-utilities)\n",
            "  Downloading validators-0.35.0-py3-none-any.whl.metadata (3.9 kB)\n",
            "Requirement already satisfied: beautifulsoup4 in /usr/local/lib/python3.11/dist-packages (from aed-utilities) (4.13.4)\n",
            "Requirement already satisfied: soupsieve>1.2 in /usr/local/lib/python3.11/dist-packages (from beautifulsoup4->aed-utilities) (2.7)\n",
            "Requirement already satisfied: typing-extensions>=4.0.0 in /usr/local/lib/python3.11/dist-packages (from beautifulsoup4->aed-utilities) (4.14.0)\n",
            "Downloading validators-0.35.0-py3-none-any.whl (44 kB)\n",
            "\u001b[2K   \u001b[90m━━━━━━━━━━━━━━━━━━━━━━━━━━━━━━━━━━━━━━━━\u001b[0m \u001b[32m44.7/44.7 kB\u001b[0m \u001b[31m691.4 kB/s\u001b[0m eta \u001b[36m0:00:00\u001b[0m\n",
            "\u001b[?25hBuilding wheels for collected packages: aed-utilities\n",
            "  Building wheel for aed-utilities (setup.py) ... \u001b[?25l\u001b[?25hdone\n",
            "  Created wheel for aed-utilities: filename=aed_utilities-0.5.6-py3-none-any.whl size=4541 sha256=f8fd71f27c2890203f225299d15351fd99adb91d5fb16f2dc74ef37bbe9a6ee5\n",
            "  Stored in directory: /root/.cache/pip/wheels/e2/87/f8/223d5e6792e7b0fc909ef2cdb96ceb6a5336f428bc8eea7ffa\n",
            "Successfully built aed-utilities\n",
            "Installing collected packages: validators, aed-utilities\n",
            "Successfully installed aed-utilities-0.5.6 validators-0.35.0\n"
          ]
        }
      ]
    },
    {
      "cell_type": "markdown",
      "metadata": {
        "id": "4ZkKYk6VSPdB"
      },
      "source": [
        "---\n",
        "# Descripción de un árbol cartesiano"
      ]
    },
    {
      "cell_type": "markdown",
      "metadata": {
        "id": "dyXAyyK6SzH-"
      },
      "source": [
        "Un *árbol cartesiano* es un árbol binario en que cada nodo interno contiene un par ordenado $(x,y)$, tal que:\n",
        "\n",
        "* Si se consideran las coordenadas $x$, el árbol es un ABB\n",
        "* Si se consideran las coordenadas $y$, el árbol es un árbol de prioridad\n",
        "\n",
        "La siguiente figura muestra a un árbol cartesiano en que la máxima prioridad corresponde al valor mínimo de $y$:\n",
        "\n",
        "![cartesian-tree](https://github.com/ivansipiran/AED-Apuntes/blob/main/recursos/cartesian-tree.png?raw=1)\n",
        "\n",
        "Intuitivamente, podemos imaginar que la prioridad $y$ corresponde a la hora en que la llave $x$ ingresó al árbol. Esto explica que la raíz tenga el valor mínimo de $y$, y que estos valores vayan creciendo a medida que descendemos en el árbol.\n",
        "\n",
        "Sin embargo, _no estamos obligados a insertar las llaves en orden cronológico_. En efecto, veremos que un nuevo par $(x,y)$ se puede insertar en cualquier momento, aunque su $y$ no sea mayor que los de los nodos que ya están en el árbol.\n",
        "\n",
        "Para insertar un nuevo par ordenado en un árbol cartesiano, primero efectuamos una inserción como si fuera un ABB, con lo cual el nuevo nodo cumple con las restricciones \"izquierda-derecha\" en su coordenada $x$, pero posiblemente no con las restricciones de prioridad \"arriba-abajo\" de la coordenada $y$. Para corregir esto último, a continuación, hacemos una serie de rotaciones para que el nuevo nodo vaya \"trepando\" hasta que cumpla con las restricciones de prioridad.\n",
        "\n",
        "También es posible eliminar un nodo dado de un árbol cartesiano. Para esto, una vez ubicado el nodo que contiene el $x$ que se va a eliminar, podemos imaginar que le cambiamos la prioridad a una prioridad pésima (\"$+\\infty$\") y luego lo \"hundimos\" haciendo una serie de rotaciones, rotando siempre con el hijo de mejor prioridad (=valor de $y$ menor), hasta llegar al fondo. Una vez ahí, es trivial eliminarlo, porque no tiene hijos."
      ]
    },
    {
      "cell_type": "markdown",
      "metadata": {
        "id": "0Y-mbNFvUWM_"
      },
      "source": [
        "# La Tarea\n",
        "\n",
        "\n",
        "\n",
        "En primer lugar, usted debe implementar las funciones `insert` y `delete` en la clase `Nodoi` y `Nodoe`. Puede crear todas las funciones auxiliares que requiera para implementar estos métodos. No está permitido usar ninguna función ya programada en módulos de Python. En caso de requerirla, puede utilizar la función predefinida `isinstance` de Python. Note que mientras usted no agregue su implementación de `insert` y `delete` en ambos tipos de nodos, el código no compilará correctamente."
      ]
    },
    {
      "cell_type": "code",
      "metadata": {
        "id": "UprCPjX1VO_D"
      },
      "source": [
        "class Nodoi:\n",
        "    def __init__(self, izq, info, der):\n",
        "        self.izq=izq\n",
        "        self.info=info # el campo info contiene una tupla (x,y)\n",
        "        self.der=der\n",
        "    def right_rotation(self):\n",
        "        return(Nodoi(self.izq.izq,\n",
        "                     self.izq.info,\n",
        "                     Nodoi(self.izq.der,self.info,self.der)))\n",
        "    def left_rotation(self):\n",
        "        return(Nodoi(Nodoi(self.izq,self.info,self.der.izq),\n",
        "                     self.der.info,\n",
        "                     self.der.der))\n",
        "#------------------------------------------------------------------------------------------------------------------------------------------------------------------------------------\n",
        "    def insert(self,xy): # insertar la tupla xy=(x,y) donde x es la llave e y es la prioridad\n",
        "      # Inserción en un ABB\n",
        "      assert xy != self.info\n",
        "      if xy[0] < self.info[0]:\n",
        "        arbol_post_insercion = Nodoi(self.izq.insert(xy), self.info, self.der) # Arbol post inserción igual al original pero cambiando el subarbol izquierdo por el nuevo con la inserción\n",
        "\n",
        "      else: # xy[0] > self.info[0]\n",
        "        arbol_post_insercion = Nodoi(self.izq, self.info, self.der.insert(xy)) # Arbol post inserción igual al original pero cambiando el subarbol derecho por el nuevo con la inserción\n",
        "\n",
        "      # Una vez ya hecha la inserción como en un ABB, falta chaquer si se cumplen las condiciones de prioridad en la coordenada y, de no cumplirse deben hacerse las rotaciones necesarias\n",
        "      if isinstance(arbol_post_insercion.der, Nodoi) and arbol_post_insercion.info[1] > arbol_post_insercion.der.info[1]: # Si la coordenada y del nodo derecho es menor que el del padre, entonces se debe hacer una rotación a la izquierda\n",
        "        return arbol_post_insercion.left_rotation() # Se realiza una notación a la izquierda, para subir al hijo derecho del nodo\n",
        "\n",
        "      if isinstance(arbol_post_insercion.izq, Nodoi) and arbol_post_insercion.info[1] > arbol_post_insercion.izq.info[1]: # Si la coordenada y del nodo izquierdo es menor que el del padre, entonces se debe hacer una rotación a la derecha\n",
        "        return arbol_post_insercion.right_rotation() # Se realiza una notación a la derecha, para subir al hijo izquierdo del nodo\n",
        "\n",
        "      else: # Si se cumplen las condiciones del arbol de prioridad en la coordenada y, entonces se retorna el árbol tal cual sin hacer alguna rotación\n",
        "        return arbol_post_insercion\n",
        "\n",
        "    def delete(self,x): # eliminar el nodo con llave x\n",
        "        # Eliminación en un ABB\n",
        "        # Buscamos la llave x en el árbol\n",
        "        if x < self.info[0]: # Si la clave x es menor, debe estar en el subárbol izquierdo\n",
        "          return Nodoi(self.izq.delete(x),self.info,self.der)\n",
        "\n",
        "        elif x > self.info[0]: # Si la clave x es mayor, debe estar en el subárbol derecho\n",
        "          return Nodoi(self.izq,self.info,self.der.delete(x))\n",
        "\n",
        "        # Una vez que ya encontramos la llave, vemos la forma de eliminarla\n",
        "        else: # x == self.info[0]:\n",
        "          # llave sin hijos: se reemplaza el nodo interno que contiene a x con un nodo externo\n",
        "          if isinstance(self, Nodoe):\n",
        "            return None\n",
        "\n",
        "          # llave con 1 hijo: el padre de la llave x pasa a apuntar al único hijo de x\n",
        "          elif isinstance(self.izq,Nodoe): # No hay hijo izquierdo, entonces lo reemplazamos con su hijo derecho\n",
        "            return self.der\n",
        "          elif isinstance(self.der,Nodoe): # No hay hijo derecho, lo reemplazamos con su hijo izquierdo\n",
        "            return self.izq\n",
        "\n",
        "          else: # llave con 2 hijos: hay que hacer rotaciones para empujarlo hacia una hoja, comparando las propiedades con los hijos y haciendo una rotación con el hijo de mayor prioridad\n",
        "            if isinstance(self.der, Nodoi) and isinstance(self.izq, Nodoi) and self.izq.info[1] < self.der.info[1]: # Si el hijo derecho es el con mayor prioridad\n",
        "              arbol_post_rot = self.right_rotation() # Se hace una rotación con el derecho\n",
        "              return Nodoi(arbol_post_rot.izq, arbol_post_rot.info, arbol_post_rot.der.delete(x)) # Retornamos el árbol\n",
        "            else: # Si el hijo izquierdo es el con mayor prioridad\n",
        "              arbol_post_rot = self.left_rotation() # Se hace una rotación con este\n",
        "              return Nodoi(arbol_post_rot.izq.delete(x), arbol_post_rot.info, arbol_post_rot.der)\n",
        "\n",
        "\n",
        "#------------------------------------------------------------------------------------------------------------------------------------------------------------------------------------\n",
        "class Nodoe:\n",
        "    def __init__(self):\n",
        "        pass\n",
        "#------------------------------------------------------------------------------------------------------------------------------------------------------------------------------------\n",
        "    def insert(self,xy): # insertar la tupla xy=(x,y) donde x es la llave e y es la prioridad\n",
        "        # Escriba aquí su implementación\n",
        "        return Nodoi(Nodoe(),xy,Nodoe())\n",
        "\n",
        "    def delete(self,x): # eliminar el nodo con llave x\n",
        "        # Escriba aquí su implementación\n",
        "        return self\n",
        "#------------------------------------------------------------------------------------------------------------------------------------------------------------------------------------\n",
        "class ArbolCartesiano:\n",
        "    def __init__(self,raiz=Nodoe()):\n",
        "        self.raiz=raiz\n",
        "    def insert(self,xy):\n",
        "        self.raiz=self.raiz.insert(xy)\n",
        "    def delete(self,x):\n",
        "        self.raiz=self.raiz.delete(x)\n",
        "\n",
        "    def dibujar(self):\n",
        "      btd = aed.BinaryTreeDrawer(fieldData=\"info\", fieldLeft=\"izq\", fieldRight=\"der\", classNone=Nodoe, drawNull=True, shapeInternal='oval')\n",
        "      btd.draw_tree(self, \"raiz\")"
      ],
      "execution_count": null,
      "outputs": []
    },
    {
      "cell_type": "markdown",
      "metadata": {
        "id": "7vRc0MN-686N"
      },
      "source": [
        "Luego, pruebe su implementación con las siguientes operaciones (verifique con el dibujo de árbol que la operación se realizó correctamente)):"
      ]
    },
    {
      "cell_type": "code",
      "metadata": {
        "colab": {
          "base_uri": "https://localhost:8080/",
          "height": 51
        },
        "id": "9RlgDJNEWOTZ",
        "outputId": "d6fcc1de-0caf-4be1-e1bf-3e02d0028737"
      },
      "source": [
        "a=ArbolCartesiano()\n",
        "a.dibujar()"
      ],
      "execution_count": null,
      "outputs": [
        {
          "output_type": "display_data",
          "data": {
            "text/plain": [
              "<IPython.core.display.SVG object>"
            ],
            "image/svg+xml": "<svg xmlns=\"http://www.w3.org/2000/svg\" xmlns:xlink=\"http://www.w3.org/1999/xlink\" width=\"22pt\" height=\"22pt\" viewBox=\"0.00 0.00 22.00 22.00\">\n<g id=\"graph0\" class=\"graph\" transform=\"scale(1 1) rotate(0) translate(4 18)\">\n<title>Arbol</title>\n<polygon fill=\"white\" stroke=\"transparent\" points=\"-4,4 -4,-18 18,-18 18,4 -4,4\"/>\n<!-- null0 -->\n<g id=\"node1\" class=\"node\">\n<title>null0</title>\n<polygon fill=\"none\" stroke=\"black\" points=\"14,-14 0,-14 0,0 14,0 14,-14\"/>\n</g>\n</g>\n</svg>"
          },
          "metadata": {}
        }
      ]
    },
    {
      "cell_type": "code",
      "metadata": {
        "colab": {
          "base_uri": "https://localhost:8080/",
          "height": 123
        },
        "id": "2gQgTw0CeT6u",
        "outputId": "11d859f2-4e18-4dcd-c75c-ba56aeffc391"
      },
      "source": [
        "a.insert((82,0.30))\n",
        "a.dibujar()"
      ],
      "execution_count": null,
      "outputs": [
        {
          "output_type": "display_data",
          "data": {
            "text/plain": [
              "<IPython.core.display.SVG object>"
            ],
            "image/svg+xml": "<svg xmlns=\"http://www.w3.org/2000/svg\" xmlns:xlink=\"http://www.w3.org/1999/xlink\" width=\"89pt\" height=\"76pt\" viewBox=\"0.00 0.00 89.20 76.20\">\n<g id=\"graph0\" class=\"graph\" transform=\"scale(1 1) rotate(0) translate(4 72.2)\">\n<title>Arbol</title>\n<polygon fill=\"white\" stroke=\"transparent\" points=\"-4,4 -4,-72.2 85.2,-72.2 85.2,4 -4,4\"/>\n<!-- null0 -->\n<g id=\"node1\" class=\"node\">\n<title>null0</title>\n<polygon fill=\"none\" stroke=\"black\" points=\"14,-14 0,-14 0,0 14,0 14,-14\"/>\n</g>\n<!-- node0 -->\n<g id=\"node2\" class=\"node\">\n<title>node0</title>\n<ellipse fill=\"none\" stroke=\"black\" cx=\"40.6\" cy=\"-50.2\" rx=\"27\" ry=\"18\"/>\n<text text-anchor=\"middle\" x=\"40.6\" y=\"-46.5\" font-family=\"Times,serif\" font-size=\"14.00\">(82, 0.3)</text>\n</g>\n<!-- node0&#45;&#45;null0 -->\n<g id=\"edge1\" class=\"edge\">\n<title>node0--null0</title>\n<path fill=\"none\" stroke=\"black\" d=\"M28.09,-34.11C22.72,-27.21 16.71,-19.49 12.49,-14.06\"/>\n</g>\n<!-- null1 -->\n<g id=\"node3\" class=\"node\">\n<title>null1</title>\n<polygon fill=\"none\" stroke=\"black\" points=\"81.2,-14 67.2,-14 67.2,0 81.2,0 81.2,-14\"/>\n</g>\n<!-- node0&#45;&#45;null1 -->\n<g id=\"edge2\" class=\"edge\">\n<title>node0--null1</title>\n<path fill=\"none\" stroke=\"black\" d=\"M53.11,-34.11C58.48,-27.21 64.49,-19.49 68.71,-14.06\"/>\n</g>\n</g>\n</svg>"
          },
          "metadata": {}
        }
      ]
    },
    {
      "cell_type": "code",
      "metadata": {
        "colab": {
          "base_uri": "https://localhost:8080/",
          "height": 180
        },
        "id": "v_5zpTk6c6En",
        "outputId": "72901416-126b-4c3e-a11c-23f66844df94"
      },
      "source": [
        "a.insert((15,0.61))\n",
        "a.dibujar()"
      ],
      "execution_count": null,
      "outputs": [
        {
          "output_type": "display_data",
          "data": {
            "text/plain": [
              "<IPython.core.display.SVG object>"
            ],
            "image/svg+xml": "<svg xmlns=\"http://www.w3.org/2000/svg\" xmlns:xlink=\"http://www.w3.org/1999/xlink\" width=\"156pt\" height=\"119pt\" viewBox=\"0.00 0.00 156.40 119.40\">\n<g id=\"graph0\" class=\"graph\" transform=\"scale(1 1) rotate(0) translate(4 115.4)\">\n<title>Arbol</title>\n<polygon fill=\"white\" stroke=\"transparent\" points=\"-4,4 -4,-115.4 152.4,-115.4 152.4,4 -4,4\"/>\n<!-- null0 -->\n<g id=\"node1\" class=\"node\">\n<title>null0</title>\n<polygon fill=\"none\" stroke=\"black\" points=\"14,-14 0,-14 0,0 14,0 14,-14\"/>\n</g>\n<!-- node0 -->\n<g id=\"node2\" class=\"node\">\n<title>node0</title>\n<ellipse fill=\"none\" stroke=\"black\" cx=\"40.6\" cy=\"-50.2\" rx=\"30\" ry=\"18\"/>\n<text text-anchor=\"middle\" x=\"40.6\" y=\"-46.5\" font-family=\"Times,serif\" font-size=\"14.00\">(15, 0.61)</text>\n</g>\n<!-- node0&#45;&#45;null0 -->\n<g id=\"edge2\" class=\"edge\">\n<title>node0--null0</title>\n<path fill=\"none\" stroke=\"black\" d=\"M27.71,-33.62C22.52,-26.96 16.82,-19.62 12.71,-14.34\"/>\n</g>\n<!-- null1 -->\n<g id=\"node3\" class=\"node\">\n<title>null1</title>\n<polygon fill=\"none\" stroke=\"black\" points=\"81.2,-14 67.2,-14 67.2,0 81.2,0 81.2,-14\"/>\n</g>\n<!-- node0&#45;&#45;null1 -->\n<g id=\"edge3\" class=\"edge\">\n<title>node0--null1</title>\n<path fill=\"none\" stroke=\"black\" d=\"M53.49,-33.62C58.68,-26.96 64.38,-19.62 68.49,-14.34\"/>\n</g>\n<!-- node1 -->\n<g id=\"node4\" class=\"node\">\n<title>node1</title>\n<ellipse fill=\"none\" stroke=\"black\" cx=\"107.8\" cy=\"-93.4\" rx=\"27\" ry=\"18\"/>\n<text text-anchor=\"middle\" x=\"107.8\" y=\"-89.7\" font-family=\"Times,serif\" font-size=\"14.00\">(82, 0.3)</text>\n</g>\n<!-- node1&#45;&#45;node0 -->\n<g id=\"edge1\" class=\"edge\">\n<title>node1--node0</title>\n<path fill=\"none\" stroke=\"black\" d=\"M88.36,-80.9C79.84,-75.42 69.82,-68.98 61.16,-63.42\"/>\n</g>\n<!-- null2 -->\n<g id=\"node5\" class=\"node\">\n<title>null2</title>\n<polygon fill=\"none\" stroke=\"black\" points=\"148.4,-57.2 134.4,-57.2 134.4,-43.2 148.4,-43.2 148.4,-57.2\"/>\n</g>\n<!-- node1&#45;&#45;null2 -->\n<g id=\"edge4\" class=\"edge\">\n<title>node1--null2</title>\n<path fill=\"none\" stroke=\"black\" d=\"M120.31,-77.31C125.68,-70.41 131.69,-62.69 135.91,-57.26\"/>\n</g>\n</g>\n</svg>"
          },
          "metadata": {}
        }
      ]
    },
    {
      "cell_type": "code",
      "metadata": {
        "colab": {
          "base_uri": "https://localhost:8080/",
          "height": 180
        },
        "id": "0DVtYs2bd0JT",
        "outputId": "ab99d1ff-887c-466a-8bd8-1116e75bd4f0"
      },
      "source": [
        "a.insert((64,0.12))\n",
        "a.dibujar()"
      ],
      "execution_count": null,
      "outputs": [
        {
          "output_type": "display_data",
          "data": {
            "text/plain": [
              "<IPython.core.display.SVG object>"
            ],
            "image/svg+xml": "<svg xmlns=\"http://www.w3.org/2000/svg\" xmlns:xlink=\"http://www.w3.org/1999/xlink\" width=\"224pt\" height=\"119pt\" viewBox=\"0.00 0.00 223.60 119.40\">\n<g id=\"graph0\" class=\"graph\" transform=\"scale(1 1) rotate(0) translate(4 115.4)\">\n<title>Arbol</title>\n<polygon fill=\"white\" stroke=\"transparent\" points=\"-4,4 -4,-115.4 219.6,-115.4 219.6,4 -4,4\"/>\n<!-- null0 -->\n<g id=\"node1\" class=\"node\">\n<title>null0</title>\n<polygon fill=\"none\" stroke=\"black\" points=\"14,-14 0,-14 0,0 14,0 14,-14\"/>\n</g>\n<!-- node0 -->\n<g id=\"node2\" class=\"node\">\n<title>node0</title>\n<ellipse fill=\"none\" stroke=\"black\" cx=\"40.6\" cy=\"-50.2\" rx=\"30\" ry=\"18\"/>\n<text text-anchor=\"middle\" x=\"40.6\" y=\"-46.5\" font-family=\"Times,serif\" font-size=\"14.00\">(15, 0.61)</text>\n</g>\n<!-- node0&#45;&#45;null0 -->\n<g id=\"edge2\" class=\"edge\">\n<title>node0--null0</title>\n<path fill=\"none\" stroke=\"black\" d=\"M27.71,-33.62C22.52,-26.96 16.82,-19.62 12.71,-14.34\"/>\n</g>\n<!-- null1 -->\n<g id=\"node3\" class=\"node\">\n<title>null1</title>\n<polygon fill=\"none\" stroke=\"black\" points=\"81.2,-14 67.2,-14 67.2,0 81.2,0 81.2,-14\"/>\n</g>\n<!-- node0&#45;&#45;null1 -->\n<g id=\"edge3\" class=\"edge\">\n<title>node0--null1</title>\n<path fill=\"none\" stroke=\"black\" d=\"M53.49,-33.62C58.68,-26.96 64.38,-19.62 68.49,-14.34\"/>\n</g>\n<!-- node2 -->\n<g id=\"node4\" class=\"node\">\n<title>node2</title>\n<ellipse fill=\"none\" stroke=\"black\" cx=\"107.8\" cy=\"-93.4\" rx=\"30\" ry=\"18\"/>\n<text text-anchor=\"middle\" x=\"107.8\" y=\"-89.7\" font-family=\"Times,serif\" font-size=\"14.00\">(64, 0.12)</text>\n</g>\n<!-- node2&#45;&#45;node0 -->\n<g id=\"edge1\" class=\"edge\">\n<title>node2--node0</title>\n<path fill=\"none\" stroke=\"black\" d=\"M86.91,-79.97C78.74,-74.72 69.39,-68.71 61.25,-63.48\"/>\n</g>\n<!-- node1 -->\n<g id=\"node6\" class=\"node\">\n<title>node1</title>\n<ellipse fill=\"none\" stroke=\"black\" cx=\"175\" cy=\"-50.2\" rx=\"27\" ry=\"18\"/>\n<text text-anchor=\"middle\" x=\"175\" y=\"-46.5\" font-family=\"Times,serif\" font-size=\"14.00\">(82, 0.3)</text>\n</g>\n<!-- node2&#45;&#45;node1 -->\n<g id=\"edge4\" class=\"edge\">\n<title>node2--node1</title>\n<path fill=\"none\" stroke=\"black\" d=\"M128.69,-79.97C137.17,-74.52 146.91,-68.26 155.27,-62.89\"/>\n</g>\n<!-- null2 -->\n<g id=\"node5\" class=\"node\">\n<title>null2</title>\n<polygon fill=\"none\" stroke=\"black\" points=\"148.4,-14 134.4,-14 134.4,0 148.4,0 148.4,-14\"/>\n</g>\n<!-- node1&#45;&#45;null2 -->\n<g id=\"edge5\" class=\"edge\">\n<title>node1--null2</title>\n<path fill=\"none\" stroke=\"black\" d=\"M162.49,-34.11C157.12,-27.21 151.11,-19.49 146.89,-14.06\"/>\n</g>\n<!-- null3 -->\n<g id=\"node7\" class=\"node\">\n<title>null3</title>\n<polygon fill=\"none\" stroke=\"black\" points=\"215.6,-14 201.6,-14 201.6,0 215.6,0 215.6,-14\"/>\n</g>\n<!-- node1&#45;&#45;null3 -->\n<g id=\"edge6\" class=\"edge\">\n<title>node1--null3</title>\n<path fill=\"none\" stroke=\"black\" d=\"M187.51,-34.11C192.88,-27.21 198.89,-19.49 203.11,-14.06\"/>\n</g>\n</g>\n</svg>"
          },
          "metadata": {}
        }
      ]
    },
    {
      "cell_type": "code",
      "metadata": {
        "colab": {
          "base_uri": "https://localhost:8080/",
          "height": 239
        },
        "id": "LppD37_WeDiN",
        "outputId": "1cb72879-2e79-4252-fa6a-789ddbf70bbb"
      },
      "source": [
        "a.insert((35,0.84))\n",
        "a.dibujar()"
      ],
      "execution_count": null,
      "outputs": [
        {
          "output_type": "display_data",
          "data": {
            "text/plain": [
              "<IPython.core.display.SVG object>"
            ],
            "image/svg+xml": "<svg xmlns=\"http://www.w3.org/2000/svg\" xmlns:xlink=\"http://www.w3.org/1999/xlink\" width=\"291pt\" height=\"163pt\" viewBox=\"0.00 0.00 290.80 162.60\">\n<g id=\"graph0\" class=\"graph\" transform=\"scale(1 1) rotate(0) translate(4 158.6)\">\n<title>Arbol</title>\n<polygon fill=\"white\" stroke=\"transparent\" points=\"-4,4 -4,-158.6 286.8,-158.6 286.8,4 -4,4\"/>\n<!-- null0 -->\n<g id=\"node1\" class=\"node\">\n<title>null0</title>\n<polygon fill=\"none\" stroke=\"black\" points=\"14,-57.2 0,-57.2 0,-43.2 14,-43.2 14,-57.2\"/>\n</g>\n<!-- node1 -->\n<g id=\"node2\" class=\"node\">\n<title>node1</title>\n<ellipse fill=\"none\" stroke=\"black\" cx=\"40.6\" cy=\"-93.4\" rx=\"30\" ry=\"18\"/>\n<text text-anchor=\"middle\" x=\"40.6\" y=\"-89.7\" font-family=\"Times,serif\" font-size=\"14.00\">(15, 0.61)</text>\n</g>\n<!-- node1&#45;&#45;null0 -->\n<g id=\"edge2\" class=\"edge\">\n<title>node1--null0</title>\n<path fill=\"none\" stroke=\"black\" d=\"M27.71,-76.82C22.52,-70.16 16.82,-62.82 12.71,-57.54\"/>\n</g>\n<!-- node0 -->\n<g id=\"node4\" class=\"node\">\n<title>node0</title>\n<ellipse fill=\"none\" stroke=\"black\" cx=\"107.8\" cy=\"-50.2\" rx=\"30\" ry=\"18\"/>\n<text text-anchor=\"middle\" x=\"107.8\" y=\"-46.5\" font-family=\"Times,serif\" font-size=\"14.00\">(35, 0.84)</text>\n</g>\n<!-- node1&#45;&#45;node0 -->\n<g id=\"edge3\" class=\"edge\">\n<title>node1--node0</title>\n<path fill=\"none\" stroke=\"black\" d=\"M61.49,-79.97C69.66,-74.72 79.01,-68.71 87.15,-63.48\"/>\n</g>\n<!-- null1 -->\n<g id=\"node3\" class=\"node\">\n<title>null1</title>\n<polygon fill=\"none\" stroke=\"black\" points=\"81.2,-14 67.2,-14 67.2,0 81.2,0 81.2,-14\"/>\n</g>\n<!-- node0&#45;&#45;null1 -->\n<g id=\"edge4\" class=\"edge\">\n<title>node0--null1</title>\n<path fill=\"none\" stroke=\"black\" d=\"M94.91,-33.62C89.72,-26.96 84.02,-19.62 79.91,-14.34\"/>\n</g>\n<!-- null2 -->\n<g id=\"node5\" class=\"node\">\n<title>null2</title>\n<polygon fill=\"none\" stroke=\"black\" points=\"148.4,-14 134.4,-14 134.4,0 148.4,0 148.4,-14\"/>\n</g>\n<!-- node0&#45;&#45;null2 -->\n<g id=\"edge5\" class=\"edge\">\n<title>node0--null2</title>\n<path fill=\"none\" stroke=\"black\" d=\"M120.69,-33.62C125.88,-26.96 131.58,-19.62 135.69,-14.34\"/>\n</g>\n<!-- node3 -->\n<g id=\"node6\" class=\"node\">\n<title>node3</title>\n<ellipse fill=\"none\" stroke=\"black\" cx=\"175\" cy=\"-136.6\" rx=\"30\" ry=\"18\"/>\n<text text-anchor=\"middle\" x=\"175\" y=\"-132.9\" font-family=\"Times,serif\" font-size=\"14.00\">(64, 0.12)</text>\n</g>\n<!-- node3&#45;&#45;node1 -->\n<g id=\"edge1\" class=\"edge\">\n<title>node3--node1</title>\n<path fill=\"none\" stroke=\"black\" d=\"M148.13,-127.96C124.68,-120.43 90.86,-109.55 67.43,-102.02\"/>\n</g>\n<!-- node2 -->\n<g id=\"node8\" class=\"node\">\n<title>node2</title>\n<ellipse fill=\"none\" stroke=\"black\" cx=\"242.2\" cy=\"-93.4\" rx=\"27\" ry=\"18\"/>\n<text text-anchor=\"middle\" x=\"242.2\" y=\"-89.7\" font-family=\"Times,serif\" font-size=\"14.00\">(82, 0.3)</text>\n</g>\n<!-- node3&#45;&#45;node2 -->\n<g id=\"edge6\" class=\"edge\">\n<title>node3--node2</title>\n<path fill=\"none\" stroke=\"black\" d=\"M195.89,-123.17C204.37,-117.72 214.11,-111.46 222.47,-106.09\"/>\n</g>\n<!-- null3 -->\n<g id=\"node7\" class=\"node\">\n<title>null3</title>\n<polygon fill=\"none\" stroke=\"black\" points=\"215.6,-57.2 201.6,-57.2 201.6,-43.2 215.6,-43.2 215.6,-57.2\"/>\n</g>\n<!-- node2&#45;&#45;null3 -->\n<g id=\"edge7\" class=\"edge\">\n<title>node2--null3</title>\n<path fill=\"none\" stroke=\"black\" d=\"M229.69,-77.31C224.32,-70.41 218.31,-62.69 214.09,-57.26\"/>\n</g>\n<!-- null4 -->\n<g id=\"node9\" class=\"node\">\n<title>null4</title>\n<polygon fill=\"none\" stroke=\"black\" points=\"282.8,-57.2 268.8,-57.2 268.8,-43.2 282.8,-43.2 282.8,-57.2\"/>\n</g>\n<!-- node2&#45;&#45;null4 -->\n<g id=\"edge8\" class=\"edge\">\n<title>node2--null4</title>\n<path fill=\"none\" stroke=\"black\" d=\"M254.71,-77.31C260.08,-70.41 266.09,-62.69 270.31,-57.26\"/>\n</g>\n</g>\n</svg>"
          },
          "metadata": {}
        }
      ]
    },
    {
      "cell_type": "code",
      "metadata": {
        "colab": {
          "base_uri": "https://localhost:8080/",
          "height": 239
        },
        "id": "S4iYLZgJPxnI",
        "outputId": "126a7b79-d5b4-4993-d2c0-1f805d43a9f4"
      },
      "source": [
        "a.delete(64)\n",
        "a.dibujar()"
      ],
      "execution_count": null,
      "outputs": [
        {
          "output_type": "display_data",
          "data": {
            "text/plain": [
              "<IPython.core.display.SVG object>"
            ],
            "image/svg+xml": "<svg xmlns=\"http://www.w3.org/2000/svg\" xmlns:xlink=\"http://www.w3.org/1999/xlink\" width=\"224pt\" height=\"163pt\" viewBox=\"0.00 0.00 223.60 162.60\">\n<g id=\"graph0\" class=\"graph\" transform=\"scale(1 1) rotate(0) translate(4 158.6)\">\n<title>Arbol</title>\n<polygon fill=\"white\" stroke=\"transparent\" points=\"-4,4 -4,-158.6 219.6,-158.6 219.6,4 -4,4\"/>\n<!-- null0 -->\n<g id=\"node1\" class=\"node\">\n<title>null0</title>\n<polygon fill=\"none\" stroke=\"black\" points=\"14,-57.2 0,-57.2 0,-43.2 14,-43.2 14,-57.2\"/>\n</g>\n<!-- node1 -->\n<g id=\"node2\" class=\"node\">\n<title>node1</title>\n<ellipse fill=\"none\" stroke=\"black\" cx=\"40.6\" cy=\"-93.4\" rx=\"30\" ry=\"18\"/>\n<text text-anchor=\"middle\" x=\"40.6\" y=\"-89.7\" font-family=\"Times,serif\" font-size=\"14.00\">(15, 0.61)</text>\n</g>\n<!-- node1&#45;&#45;null0 -->\n<g id=\"edge2\" class=\"edge\">\n<title>node1--null0</title>\n<path fill=\"none\" stroke=\"black\" d=\"M27.71,-76.82C22.52,-70.16 16.82,-62.82 12.71,-57.54\"/>\n</g>\n<!-- node0 -->\n<g id=\"node4\" class=\"node\">\n<title>node0</title>\n<ellipse fill=\"none\" stroke=\"black\" cx=\"107.8\" cy=\"-50.2\" rx=\"30\" ry=\"18\"/>\n<text text-anchor=\"middle\" x=\"107.8\" y=\"-46.5\" font-family=\"Times,serif\" font-size=\"14.00\">(35, 0.84)</text>\n</g>\n<!-- node1&#45;&#45;node0 -->\n<g id=\"edge3\" class=\"edge\">\n<title>node1--node0</title>\n<path fill=\"none\" stroke=\"black\" d=\"M61.49,-79.97C69.66,-74.72 79.01,-68.71 87.15,-63.48\"/>\n</g>\n<!-- null1 -->\n<g id=\"node3\" class=\"node\">\n<title>null1</title>\n<polygon fill=\"none\" stroke=\"black\" points=\"81.2,-14 67.2,-14 67.2,0 81.2,0 81.2,-14\"/>\n</g>\n<!-- node0&#45;&#45;null1 -->\n<g id=\"edge4\" class=\"edge\">\n<title>node0--null1</title>\n<path fill=\"none\" stroke=\"black\" d=\"M94.91,-33.62C89.72,-26.96 84.02,-19.62 79.91,-14.34\"/>\n</g>\n<!-- null2 -->\n<g id=\"node5\" class=\"node\">\n<title>null2</title>\n<polygon fill=\"none\" stroke=\"black\" points=\"148.4,-14 134.4,-14 134.4,0 148.4,0 148.4,-14\"/>\n</g>\n<!-- node0&#45;&#45;null2 -->\n<g id=\"edge5\" class=\"edge\">\n<title>node0--null2</title>\n<path fill=\"none\" stroke=\"black\" d=\"M120.69,-33.62C125.88,-26.96 131.58,-19.62 135.69,-14.34\"/>\n</g>\n<!-- node2 -->\n<g id=\"node6\" class=\"node\">\n<title>node2</title>\n<ellipse fill=\"none\" stroke=\"black\" cx=\"175\" cy=\"-136.6\" rx=\"27\" ry=\"18\"/>\n<text text-anchor=\"middle\" x=\"175\" y=\"-132.9\" font-family=\"Times,serif\" font-size=\"14.00\">(82, 0.3)</text>\n</g>\n<!-- node2&#45;&#45;node1 -->\n<g id=\"edge1\" class=\"edge\">\n<title>node2--node1</title>\n<path fill=\"none\" stroke=\"black\" d=\"M150.66,-128.78C127.21,-121.24 91.81,-109.86 67.53,-102.05\"/>\n</g>\n<!-- null3 -->\n<g id=\"node7\" class=\"node\">\n<title>null3</title>\n<polygon fill=\"none\" stroke=\"black\" points=\"215.6,-100.4 201.6,-100.4 201.6,-86.4 215.6,-86.4 215.6,-100.4\"/>\n</g>\n<!-- node2&#45;&#45;null3 -->\n<g id=\"edge6\" class=\"edge\">\n<title>node2--null3</title>\n<path fill=\"none\" stroke=\"black\" d=\"M187.51,-120.51C192.88,-113.61 198.89,-105.89 203.11,-100.46\"/>\n</g>\n</g>\n</svg>"
          },
          "metadata": {}
        }
      ]
    },
    {
      "cell_type": "markdown",
      "metadata": {
        "id": "bRW8SkND7ONG"
      },
      "source": [
        "Por último, pruebe su código con el siguiente programa:"
      ]
    },
    {
      "cell_type": "code",
      "metadata": {
        "colab": {
          "base_uri": "https://localhost:8080/",
          "height": 650
        },
        "id": "3AMxKPZU7XIT",
        "outputId": "1a995f79-314e-4813-bff4-14a30ee75c5a"
      },
      "source": [
        "a = ArbolCartesiano()\n",
        "a.insert((1,50))\n",
        "a.insert((2,10))\n",
        "a.insert((3,40))\n",
        "a.insert((4,20))\n",
        "a.insert((5,90))\n",
        "a.insert((6,80))\n",
        "a.insert((7,30))\n",
        "a.insert((8,70))\n",
        "a.insert((9,60))\n",
        "a.insert((10,0))\n",
        "\n",
        "a.dibujar()\n",
        "\n",
        "assert a.raiz.info == (10, 0)\n",
        "assert a.raiz.izq.info == (2, 10) and isinstance(a.raiz.der, Nodoe)\n",
        "assert a.raiz.izq.izq.info == (1, 50) and a.raiz.izq.der.info == (4, 20)\n",
        "assert isinstance(a.raiz.izq.izq.izq, Nodoe) and  isinstance(a.raiz.izq.izq.der, Nodoe) and a.raiz.izq.der.izq.info == (3, 40) and a.raiz.izq.der.der.info == (7, 30)\n",
        "assert isinstance(a.raiz.izq.der.izq.izq, Nodoe) and isinstance(a.raiz.izq.der.izq.der, Nodoe) and a.raiz.izq.der.der.izq.info == (6, 80) and a.raiz.izq.der.der.der.info == (9, 60)\n",
        "assert a.raiz.izq.der.der.izq.izq.info == (5, 90) and isinstance(a.raiz.izq.der.der.izq.der, Nodoe) and a.raiz.izq.der.der.der.izq.info == (8, 70) and isinstance(a.raiz.izq.der.der.der.der, Nodoe)\n",
        "assert isinstance(a.raiz.izq.der.der.izq.izq.izq, Nodoe) and isinstance(a.raiz.izq.der.der.izq.izq.der, Nodoe) and isinstance(a.raiz.izq.der.der.der.izq.izq, Nodoe) and isinstance(a.raiz.izq.der.der.der.izq.der, Nodoe)\n",
        "\n",
        "a.delete(2)\n",
        "a.delete(6)\n",
        "a.delete(10)\n",
        "a.delete(8)\n",
        "a.delete(4)\n",
        "\n",
        "a.dibujar()\n",
        "\n",
        "assert a.raiz.info == (7, 30)\n",
        "assert a.raiz.izq.info == (3, 40) and a.raiz.der.info == (9, 60)\n",
        "assert a.raiz.izq.izq.info == (1, 50) and a.raiz.izq.der.info == (5, 90) and isinstance(a.raiz.der.izq, Nodoe) and isinstance(a.raiz.der.der, Nodoe)\n",
        "assert isinstance(a.raiz.izq.izq.izq, Nodoe) and isinstance(a.raiz.izq.izq.der, Nodoe) and isinstance(a.raiz.izq.der.izq, Nodoe) and isinstance(a.raiz.izq.der.der, Nodoe)\n",
        "\n",
        "print(\"Su código pasó todos los tests, ¡felicitaciones!\")"
      ],
      "execution_count": null,
      "outputs": [
        {
          "output_type": "display_data",
          "data": {
            "text/plain": [
              "<IPython.core.display.SVG object>"
            ],
            "image/svg+xml": "<svg xmlns=\"http://www.w3.org/2000/svg\" xmlns:xlink=\"http://www.w3.org/1999/xlink\" width=\"694pt\" height=\"292pt\" viewBox=\"0.00 0.00 694.00 292.20\">\n<g id=\"graph0\" class=\"graph\" transform=\"scale(1 1) rotate(0) translate(4 288.2)\">\n<title>Arbol</title>\n<polygon fill=\"white\" stroke=\"transparent\" points=\"-4,4 -4,-288.2 690,-288.2 690,4 -4,4\"/>\n<!-- null0 -->\n<g id=\"node1\" class=\"node\">\n<title>null0</title>\n<polygon fill=\"none\" stroke=\"black\" points=\"14,-143.6 0,-143.6 0,-129.6 14,-129.6 14,-143.6\"/>\n</g>\n<!-- node0 -->\n<g id=\"node2\" class=\"node\">\n<title>node0</title>\n<ellipse fill=\"none\" stroke=\"black\" cx=\"40.6\" cy=\"-179.8\" rx=\"27\" ry=\"18\"/>\n<text text-anchor=\"middle\" x=\"40.6\" y=\"-176.1\" font-family=\"Times,serif\" font-size=\"14.00\">(1, 50)</text>\n</g>\n<!-- node0&#45;&#45;null0 -->\n<g id=\"edge3\" class=\"edge\">\n<title>node0--null0</title>\n<path fill=\"none\" stroke=\"black\" d=\"M28.09,-163.71C22.72,-156.81 16.71,-149.09 12.49,-143.66\"/>\n</g>\n<!-- null1 -->\n<g id=\"node3\" class=\"node\">\n<title>null1</title>\n<polygon fill=\"none\" stroke=\"black\" points=\"81.2,-143.6 67.2,-143.6 67.2,-129.6 81.2,-129.6 81.2,-143.6\"/>\n</g>\n<!-- node0&#45;&#45;null1 -->\n<g id=\"edge4\" class=\"edge\">\n<title>node0--null1</title>\n<path fill=\"none\" stroke=\"black\" d=\"M53.11,-163.71C58.48,-156.81 64.49,-149.09 68.71,-143.66\"/>\n</g>\n<!-- node8 -->\n<g id=\"node4\" class=\"node\">\n<title>node8</title>\n<ellipse fill=\"none\" stroke=\"black\" cx=\"107.8\" cy=\"-223\" rx=\"27\" ry=\"18\"/>\n<text text-anchor=\"middle\" x=\"107.8\" y=\"-219.3\" font-family=\"Times,serif\" font-size=\"14.00\">(2, 10)</text>\n</g>\n<!-- node8&#45;&#45;node0 -->\n<g id=\"edge2\" class=\"edge\">\n<title>node8--node0</title>\n<path fill=\"none\" stroke=\"black\" d=\"M88.36,-210.5C79.52,-204.82 69.09,-198.11 60.23,-192.42\"/>\n</g>\n<!-- node7 -->\n<g id=\"node8\" class=\"node\">\n<title>node7</title>\n<ellipse fill=\"none\" stroke=\"black\" cx=\"242.2\" cy=\"-179.8\" rx=\"27\" ry=\"18\"/>\n<text text-anchor=\"middle\" x=\"242.2\" y=\"-176.1\" font-family=\"Times,serif\" font-size=\"14.00\">(4, 20)</text>\n</g>\n<!-- node8&#45;&#45;node7 -->\n<g id=\"edge5\" class=\"edge\">\n<title>node8--node7</title>\n<path fill=\"none\" stroke=\"black\" d=\"M132.14,-215.18C156.35,-207.4 193.29,-195.52 217.59,-187.71\"/>\n</g>\n<!-- null2 -->\n<g id=\"node5\" class=\"node\">\n<title>null2</title>\n<polygon fill=\"none\" stroke=\"black\" points=\"148.4,-100.4 134.4,-100.4 134.4,-86.4 148.4,-86.4 148.4,-100.4\"/>\n</g>\n<!-- node1 -->\n<g id=\"node6\" class=\"node\">\n<title>node1</title>\n<ellipse fill=\"none\" stroke=\"black\" cx=\"175\" cy=\"-136.6\" rx=\"27\" ry=\"18\"/>\n<text text-anchor=\"middle\" x=\"175\" y=\"-132.9\" font-family=\"Times,serif\" font-size=\"14.00\">(3, 40)</text>\n</g>\n<!-- node1&#45;&#45;null2 -->\n<g id=\"edge7\" class=\"edge\">\n<title>node1--null2</title>\n<path fill=\"none\" stroke=\"black\" d=\"M162.49,-120.51C157.12,-113.61 151.11,-105.89 146.89,-100.46\"/>\n</g>\n<!-- null3 -->\n<g id=\"node7\" class=\"node\">\n<title>null3</title>\n<polygon fill=\"none\" stroke=\"black\" points=\"215.6,-100.4 201.6,-100.4 201.6,-86.4 215.6,-86.4 215.6,-100.4\"/>\n</g>\n<!-- node1&#45;&#45;null3 -->\n<g id=\"edge8\" class=\"edge\">\n<title>node1--null3</title>\n<path fill=\"none\" stroke=\"black\" d=\"M187.51,-120.51C192.88,-113.61 198.89,-105.89 203.11,-100.46\"/>\n</g>\n<!-- node7&#45;&#45;node1 -->\n<g id=\"edge6\" class=\"edge\">\n<title>node7--node1</title>\n<path fill=\"none\" stroke=\"black\" d=\"M222.76,-167.3C213.92,-161.62 203.49,-154.91 194.63,-149.22\"/>\n</g>\n<!-- node6 -->\n<g id=\"node14\" class=\"node\">\n<title>node6</title>\n<ellipse fill=\"none\" stroke=\"black\" cx=\"443.8\" cy=\"-136.6\" rx=\"27\" ry=\"18\"/>\n<text text-anchor=\"middle\" x=\"443.8\" y=\"-132.9\" font-family=\"Times,serif\" font-size=\"14.00\">(7, 30)</text>\n</g>\n<!-- node7&#45;&#45;node6 -->\n<g id=\"edge9\" class=\"edge\">\n<title>node7--node6</title>\n<path fill=\"none\" stroke=\"black\" d=\"M268.14,-174.24C306.85,-165.95 379.3,-150.42 417.96,-142.14\"/>\n</g>\n<!-- null4 -->\n<g id=\"node9\" class=\"node\">\n<title>null4</title>\n<polygon fill=\"none\" stroke=\"black\" points=\"282.8,-14 268.8,-14 268.8,0 282.8,0 282.8,-14\"/>\n</g>\n<!-- node2 -->\n<g id=\"node10\" class=\"node\">\n<title>node2</title>\n<ellipse fill=\"none\" stroke=\"black\" cx=\"309.4\" cy=\"-50.2\" rx=\"27\" ry=\"18\"/>\n<text text-anchor=\"middle\" x=\"309.4\" y=\"-46.5\" font-family=\"Times,serif\" font-size=\"14.00\">(5, 90)</text>\n</g>\n<!-- node2&#45;&#45;null4 -->\n<g id=\"edge12\" class=\"edge\">\n<title>node2--null4</title>\n<path fill=\"none\" stroke=\"black\" d=\"M296.89,-34.11C291.52,-27.21 285.51,-19.49 281.29,-14.06\"/>\n</g>\n<!-- null5 -->\n<g id=\"node11\" class=\"node\">\n<title>null5</title>\n<polygon fill=\"none\" stroke=\"black\" points=\"350,-14 336,-14 336,0 350,0 350,-14\"/>\n</g>\n<!-- node2&#45;&#45;null5 -->\n<g id=\"edge13\" class=\"edge\">\n<title>node2--null5</title>\n<path fill=\"none\" stroke=\"black\" d=\"M321.91,-34.11C327.28,-27.21 333.29,-19.49 337.51,-14.06\"/>\n</g>\n<!-- node3 -->\n<g id=\"node12\" class=\"node\">\n<title>node3</title>\n<ellipse fill=\"none\" stroke=\"black\" cx=\"376.6\" cy=\"-93.4\" rx=\"27\" ry=\"18\"/>\n<text text-anchor=\"middle\" x=\"376.6\" y=\"-89.7\" font-family=\"Times,serif\" font-size=\"14.00\">(6, 80)</text>\n</g>\n<!-- node3&#45;&#45;node2 -->\n<g id=\"edge11\" class=\"edge\">\n<title>node3--node2</title>\n<path fill=\"none\" stroke=\"black\" d=\"M357.16,-80.9C348.32,-75.22 337.89,-68.51 329.03,-62.82\"/>\n</g>\n<!-- null6 -->\n<g id=\"node13\" class=\"node\">\n<title>null6</title>\n<polygon fill=\"none\" stroke=\"black\" points=\"417.2,-57.2 403.2,-57.2 403.2,-43.2 417.2,-43.2 417.2,-57.2\"/>\n</g>\n<!-- node3&#45;&#45;null6 -->\n<g id=\"edge14\" class=\"edge\">\n<title>node3--null6</title>\n<path fill=\"none\" stroke=\"black\" d=\"M389.11,-77.31C394.48,-70.41 400.49,-62.69 404.71,-57.26\"/>\n</g>\n<!-- node6&#45;&#45;node3 -->\n<g id=\"edge10\" class=\"edge\">\n<title>node6--node3</title>\n<path fill=\"none\" stroke=\"black\" d=\"M424.36,-124.1C415.52,-118.42 405.09,-111.71 396.23,-106.02\"/>\n</g>\n<!-- node5 -->\n<g id=\"node18\" class=\"node\">\n<title>node5</title>\n<ellipse fill=\"none\" stroke=\"black\" cx=\"578.2\" cy=\"-93.4\" rx=\"27\" ry=\"18\"/>\n<text text-anchor=\"middle\" x=\"578.2\" y=\"-89.7\" font-family=\"Times,serif\" font-size=\"14.00\">(9, 60)</text>\n</g>\n<!-- node6&#45;&#45;node5 -->\n<g id=\"edge15\" class=\"edge\">\n<title>node6--node5</title>\n<path fill=\"none\" stroke=\"black\" d=\"M468.14,-128.78C492.35,-121 529.29,-109.12 553.59,-101.31\"/>\n</g>\n<!-- null7 -->\n<g id=\"node15\" class=\"node\">\n<title>null7</title>\n<polygon fill=\"none\" stroke=\"black\" points=\"484.4,-14 470.4,-14 470.4,0 484.4,0 484.4,-14\"/>\n</g>\n<!-- node4 -->\n<g id=\"node16\" class=\"node\">\n<title>node4</title>\n<ellipse fill=\"none\" stroke=\"black\" cx=\"511\" cy=\"-50.2\" rx=\"27\" ry=\"18\"/>\n<text text-anchor=\"middle\" x=\"511\" y=\"-46.5\" font-family=\"Times,serif\" font-size=\"14.00\">(8, 70)</text>\n</g>\n<!-- node4&#45;&#45;null7 -->\n<g id=\"edge17\" class=\"edge\">\n<title>node4--null7</title>\n<path fill=\"none\" stroke=\"black\" d=\"M498.49,-34.11C493.12,-27.21 487.11,-19.49 482.89,-14.06\"/>\n</g>\n<!-- null8 -->\n<g id=\"node17\" class=\"node\">\n<title>null8</title>\n<polygon fill=\"none\" stroke=\"black\" points=\"551.6,-14 537.6,-14 537.6,0 551.6,0 551.6,-14\"/>\n</g>\n<!-- node4&#45;&#45;null8 -->\n<g id=\"edge18\" class=\"edge\">\n<title>node4--null8</title>\n<path fill=\"none\" stroke=\"black\" d=\"M523.51,-34.11C528.88,-27.21 534.89,-19.49 539.11,-14.06\"/>\n</g>\n<!-- node5&#45;&#45;node4 -->\n<g id=\"edge16\" class=\"edge\">\n<title>node5--node4</title>\n<path fill=\"none\" stroke=\"black\" d=\"M558.76,-80.9C549.92,-75.22 539.49,-68.51 530.63,-62.82\"/>\n</g>\n<!-- null9 -->\n<g id=\"node19\" class=\"node\">\n<title>null9</title>\n<polygon fill=\"none\" stroke=\"black\" points=\"618.8,-57.2 604.8,-57.2 604.8,-43.2 618.8,-43.2 618.8,-57.2\"/>\n</g>\n<!-- node5&#45;&#45;null9 -->\n<g id=\"edge19\" class=\"edge\">\n<title>node5--null9</title>\n<path fill=\"none\" stroke=\"black\" d=\"M590.71,-77.31C596.08,-70.41 602.09,-62.69 606.31,-57.26\"/>\n</g>\n<!-- node9 -->\n<g id=\"node20\" class=\"node\">\n<title>node9</title>\n<ellipse fill=\"none\" stroke=\"black\" cx=\"645.4\" cy=\"-266.2\" rx=\"27\" ry=\"18\"/>\n<text text-anchor=\"middle\" x=\"645.4\" y=\"-262.5\" font-family=\"Times,serif\" font-size=\"14.00\">(10, 0)</text>\n</g>\n<!-- node9&#45;&#45;node8 -->\n<g id=\"edge1\" class=\"edge\">\n<title>node9--node8</title>\n<path fill=\"none\" stroke=\"black\" d=\"M618.37,-264.03C526.5,-256.65 226.84,-232.57 134.88,-225.18\"/>\n</g>\n<!-- null10 -->\n<g id=\"node21\" class=\"node\">\n<title>null10</title>\n<polygon fill=\"none\" stroke=\"black\" points=\"686,-230 672,-230 672,-216 686,-216 686,-230\"/>\n</g>\n<!-- node9&#45;&#45;null10 -->\n<g id=\"edge20\" class=\"edge\">\n<title>node9--null10</title>\n<path fill=\"none\" stroke=\"black\" d=\"M657.91,-250.11C663.28,-243.21 669.29,-235.49 673.51,-230.06\"/>\n</g>\n</g>\n</svg>"
          },
          "metadata": {}
        },
        {
          "output_type": "display_data",
          "data": {
            "text/plain": [
              "<IPython.core.display.SVG object>"
            ],
            "image/svg+xml": "<svg xmlns=\"http://www.w3.org/2000/svg\" xmlns:xlink=\"http://www.w3.org/1999/xlink\" width=\"358pt\" height=\"163pt\" viewBox=\"0.00 0.00 358.00 162.60\">\n<g id=\"graph0\" class=\"graph\" transform=\"scale(1 1) rotate(0) translate(4 158.6)\">\n<title>Arbol</title>\n<polygon fill=\"white\" stroke=\"transparent\" points=\"-4,4 -4,-158.6 354,-158.6 354,4 -4,4\"/>\n<!-- null0 -->\n<g id=\"node1\" class=\"node\">\n<title>null0</title>\n<polygon fill=\"none\" stroke=\"black\" points=\"14,-14 0,-14 0,0 14,0 14,-14\"/>\n</g>\n<!-- node0 -->\n<g id=\"node2\" class=\"node\">\n<title>node0</title>\n<ellipse fill=\"none\" stroke=\"black\" cx=\"40.6\" cy=\"-50.2\" rx=\"27\" ry=\"18\"/>\n<text text-anchor=\"middle\" x=\"40.6\" y=\"-46.5\" font-family=\"Times,serif\" font-size=\"14.00\">(1, 50)</text>\n</g>\n<!-- node0&#45;&#45;null0 -->\n<g id=\"edge3\" class=\"edge\">\n<title>node0--null0</title>\n<path fill=\"none\" stroke=\"black\" d=\"M28.09,-34.11C22.72,-27.21 16.71,-19.49 12.49,-14.06\"/>\n</g>\n<!-- null1 -->\n<g id=\"node3\" class=\"node\">\n<title>null1</title>\n<polygon fill=\"none\" stroke=\"black\" points=\"81.2,-14 67.2,-14 67.2,0 81.2,0 81.2,-14\"/>\n</g>\n<!-- node0&#45;&#45;null1 -->\n<g id=\"edge4\" class=\"edge\">\n<title>node0--null1</title>\n<path fill=\"none\" stroke=\"black\" d=\"M53.11,-34.11C58.48,-27.21 64.49,-19.49 68.71,-14.06\"/>\n</g>\n<!-- node2 -->\n<g id=\"node4\" class=\"node\">\n<title>node2</title>\n<ellipse fill=\"none\" stroke=\"black\" cx=\"107.8\" cy=\"-93.4\" rx=\"27\" ry=\"18\"/>\n<text text-anchor=\"middle\" x=\"107.8\" y=\"-89.7\" font-family=\"Times,serif\" font-size=\"14.00\">(3, 40)</text>\n</g>\n<!-- node2&#45;&#45;node0 -->\n<g id=\"edge2\" class=\"edge\">\n<title>node2--node0</title>\n<path fill=\"none\" stroke=\"black\" d=\"M88.36,-80.9C79.52,-75.22 69.09,-68.51 60.23,-62.82\"/>\n</g>\n<!-- node1 -->\n<g id=\"node6\" class=\"node\">\n<title>node1</title>\n<ellipse fill=\"none\" stroke=\"black\" cx=\"175\" cy=\"-50.2\" rx=\"27\" ry=\"18\"/>\n<text text-anchor=\"middle\" x=\"175\" y=\"-46.5\" font-family=\"Times,serif\" font-size=\"14.00\">(5, 90)</text>\n</g>\n<!-- node2&#45;&#45;node1 -->\n<g id=\"edge5\" class=\"edge\">\n<title>node2--node1</title>\n<path fill=\"none\" stroke=\"black\" d=\"M127.24,-80.9C136.08,-75.22 146.51,-68.51 155.37,-62.82\"/>\n</g>\n<!-- null2 -->\n<g id=\"node5\" class=\"node\">\n<title>null2</title>\n<polygon fill=\"none\" stroke=\"black\" points=\"148.4,-14 134.4,-14 134.4,0 148.4,0 148.4,-14\"/>\n</g>\n<!-- node1&#45;&#45;null2 -->\n<g id=\"edge6\" class=\"edge\">\n<title>node1--null2</title>\n<path fill=\"none\" stroke=\"black\" d=\"M162.49,-34.11C157.12,-27.21 151.11,-19.49 146.89,-14.06\"/>\n</g>\n<!-- null3 -->\n<g id=\"node7\" class=\"node\">\n<title>null3</title>\n<polygon fill=\"none\" stroke=\"black\" points=\"215.6,-14 201.6,-14 201.6,0 215.6,0 215.6,-14\"/>\n</g>\n<!-- node1&#45;&#45;null3 -->\n<g id=\"edge7\" class=\"edge\">\n<title>node1--null3</title>\n<path fill=\"none\" stroke=\"black\" d=\"M187.51,-34.11C192.88,-27.21 198.89,-19.49 203.11,-14.06\"/>\n</g>\n<!-- node4 -->\n<g id=\"node8\" class=\"node\">\n<title>node4</title>\n<ellipse fill=\"none\" stroke=\"black\" cx=\"242.2\" cy=\"-136.6\" rx=\"27\" ry=\"18\"/>\n<text text-anchor=\"middle\" x=\"242.2\" y=\"-132.9\" font-family=\"Times,serif\" font-size=\"14.00\">(7, 30)</text>\n</g>\n<!-- node4&#45;&#45;node2 -->\n<g id=\"edge1\" class=\"edge\">\n<title>node4--node2</title>\n<path fill=\"none\" stroke=\"black\" d=\"M217.86,-128.78C193.65,-121 156.71,-109.12 132.41,-101.31\"/>\n</g>\n<!-- node3 -->\n<g id=\"node10\" class=\"node\">\n<title>node3</title>\n<ellipse fill=\"none\" stroke=\"black\" cx=\"309.4\" cy=\"-93.4\" rx=\"27\" ry=\"18\"/>\n<text text-anchor=\"middle\" x=\"309.4\" y=\"-89.7\" font-family=\"Times,serif\" font-size=\"14.00\">(9, 60)</text>\n</g>\n<!-- node4&#45;&#45;node3 -->\n<g id=\"edge8\" class=\"edge\">\n<title>node4--node3</title>\n<path fill=\"none\" stroke=\"black\" d=\"M261.64,-124.1C270.48,-118.42 280.91,-111.71 289.77,-106.02\"/>\n</g>\n<!-- null4 -->\n<g id=\"node9\" class=\"node\">\n<title>null4</title>\n<polygon fill=\"none\" stroke=\"black\" points=\"282.8,-57.2 268.8,-57.2 268.8,-43.2 282.8,-43.2 282.8,-57.2\"/>\n</g>\n<!-- node3&#45;&#45;null4 -->\n<g id=\"edge9\" class=\"edge\">\n<title>node3--null4</title>\n<path fill=\"none\" stroke=\"black\" d=\"M296.89,-77.31C291.52,-70.41 285.51,-62.69 281.29,-57.26\"/>\n</g>\n<!-- null5 -->\n<g id=\"node11\" class=\"node\">\n<title>null5</title>\n<polygon fill=\"none\" stroke=\"black\" points=\"350,-57.2 336,-57.2 336,-43.2 350,-43.2 350,-57.2\"/>\n</g>\n<!-- node3&#45;&#45;null5 -->\n<g id=\"edge10\" class=\"edge\">\n<title>node3--null5</title>\n<path fill=\"none\" stroke=\"black\" d=\"M321.91,-77.31C327.28,-70.41 333.29,-62.69 337.51,-57.26\"/>\n</g>\n</g>\n</svg>"
          },
          "metadata": {}
        },
        {
          "output_type": "stream",
          "name": "stdout",
          "text": [
            "Su código pasó todos los tests, ¡felicitaciones!\n"
          ]
        }
      ]
    },
    {
      "cell_type": "code",
      "source": [
        "class customPairs:\n",
        "    def __init__(self, *args) -> None:\n",
        "        self.pairs = []\n",
        "        for pair in args:\n",
        "            self.pairs.append(pair)\n",
        "        self.__index = 0\n",
        "    def add(self, pair):\n",
        "        self.pairs.append(pair)\n",
        "    def __iter__(self):\n",
        "        return self\n",
        "    def __next__(self):\n",
        "        if self.__index < len(self.pairs):\n",
        "            self.__index += 1\n",
        "            return self.pairs[self.__index - 1]\n",
        "        else:\n",
        "            raise StopIteration\n",
        "    def __contains__(self, pair):\n",
        "        return pair in self.pairs\n",
        "    def __getitem__(self, index):\n",
        "        return self.pairs[index]\n",
        "    def index(self, pair=None, left_obj=None):\n",
        "        if pair is None and left_obj is None:\n",
        "            raise ValueError(\"Debe entregar al menos un argumento\")\n",
        "        if pair is not None:\n",
        "            if pair in self.pairs:\n",
        "                return self.pairs.index(pair)\n",
        "            return self.index(left_obj=pair)\n",
        "        if left_obj is not None:\n",
        "            for i, p in enumerate(self.pairs):\n",
        "                if left_obj == p[0]:\n",
        "                    return i\n",
        "            return -1\n",
        "\n",
        "def tester_cartesiando(clase_arbol, **kwargs):\n",
        "    clase_arbol = kwargs[\"test_class\"]\n",
        "    casos_prueba = customPairs(\n",
        "        # tests basicos enunciado\n",
        "        (  # reconstrucción test paso a paso\n",
        "            [ # instrucciones\n",
        "                ('*', None)\n",
        "            ],\n",
        "            [ # verificaciones\n",
        "                ('raiz', 'Nodoe')\n",
        "            ]\n",
        "        ),\n",
        "        (\n",
        "            [ # instrucciones\n",
        "                ('i', 82, 0.30),\n",
        "            ],\n",
        "            [ # verificaciones\n",
        "                ('raiz', 'Nodoi'),\n",
        "                ('raiz_izq', 'Nodoe'),\n",
        "                ('raiz_der', 'Nodoe'),\n",
        "                ('raiz_info', (82, 0.30)),\n",
        "            ]\n",
        "        ),\n",
        "        (\n",
        "            [ # instrucciones\n",
        "                ('i', 15, 0.61)\n",
        "            ],\n",
        "            [ # verificaciones\n",
        "                ('raiz', 'Nodoi'),\n",
        "                ('raiz_izq', 'Nodoi'),\n",
        "                ('raiz_der', 'Nodoe'),\n",
        "                ('raiz_info', (82, 0.30)),\n",
        "                ('raiz_izq_info', (15, 0.61)),\n",
        "                ('raiz_izq_izq', 'Nodoe'),\n",
        "                ('raiz_izq_der', 'Nodoe'),\n",
        "            ]\n",
        "        ),\n",
        "        (\n",
        "            [ # instrucciones\n",
        "                ('i', 64, 0.12)\n",
        "            ],\n",
        "            [ # verificaciones\n",
        "                ('raiz', 'Nodoi'),\n",
        "                ('raiz_izq', 'Nodoi'),\n",
        "                ('raiz_der', 'Nodoi'),\n",
        "                ('raiz_info', (64, 0.12)),\n",
        "                ('raiz_izq_info', (15, 0.61)),\n",
        "                ('raiz_izq_izq', 'Nodoe'),\n",
        "                ('raiz_izq_der', 'Nodoe'),\n",
        "                ('raiz_der_info', (82, 0.30)),\n",
        "                ('raiz_der_izq', 'Nodoe'),\n",
        "                ('raiz_der_der', 'Nodoe'),\n",
        "            ]\n",
        "        ),\n",
        "        (\n",
        "            [ # instrucciones\n",
        "                ('i', 35, 0.84)\n",
        "            ],\n",
        "            [ # verificaciones\n",
        "                ('raiz', 'Nodoi'),\n",
        "                ('raiz_izq', 'Nodoi'),\n",
        "                ('raiz_der', 'Nodoi'),\n",
        "                ('raiz_info', (64, 0.12)),\n",
        "                ('raiz_izq_info', (15, 0.61)),\n",
        "                ('raiz_izq_izq', 'Nodoe'),\n",
        "                ('raiz_izq_der', 'Nodoi'),\n",
        "                ('raiz_izq_der_info', (35, 0.84)),\n",
        "                ('raiz_izq_der_izq', 'Nodoe'),\n",
        "                ('raiz_izq_der_der', 'Nodoe'),\n",
        "                ('raiz_der_info', (82, 0.30)),\n",
        "                ('raiz_der_izq', 'Nodoe'),\n",
        "                ('raiz_der_der', 'Nodoe'),\n",
        "            ]\n",
        "        ),\n",
        "        (\n",
        "            [ # instrucciones\n",
        "                ('d', 64)\n",
        "            ],\n",
        "            [ # verificaciones\n",
        "                ('raiz', 'Nodoi'),\n",
        "                ('raiz_izq', 'Nodoi'),\n",
        "                ('raiz_der', 'Nodoe'),\n",
        "                ('raiz_info', (82, 0.30)),\n",
        "                ('raiz_izq_info', (15, 0.61)),\n",
        "                ('raiz_izq_izq', 'Nodoe'),\n",
        "                ('raiz_izq_der', 'Nodoi'),\n",
        "                ('raiz_izq_der_info', (35, 0.84)),\n",
        "                ('raiz_izq_der_izq', 'Nodoe'),\n",
        "                ('raiz_izq_der_der', 'Nodoe'),\n",
        "            ]\n",
        "        ),\n",
        "        ( # test basico enunciado 1 shot\n",
        "            [ # instrucciones\n",
        "                ('*', None),\n",
        "                ('i', 82, 0.30),\n",
        "                ('i', 15, 0.61),\n",
        "                ('i', 64, 0.12),\n",
        "                ('i', 35, 0.84),\n",
        "                ('d', 64)\n",
        "            ],\n",
        "            [ # verificaciones\n",
        "                ('raiz', 'Nodoi'),\n",
        "                ('raiz_izq', 'Nodoi'),\n",
        "                ('raiz_der', 'Nodoe'),\n",
        "                ('raiz_info', (82, 0.30)),\n",
        "                ('raiz_izq_info', (15, 0.61)),\n",
        "                ('raiz_izq_izq', 'Nodoe'),\n",
        "                ('raiz_izq_der', 'Nodoi'),\n",
        "                ('raiz_izq_der_info', (35, 0.84)),\n",
        "                ('raiz_izq_der_izq', 'Nodoe'),\n",
        "                ('raiz_izq_der_der', 'Nodoe'),\n",
        "            ]\n",
        "        ),\n",
        "        # test de robustez enunciado\n",
        "        (\n",
        "            [ # instrucciones\n",
        "                ('*', None),\n",
        "                ('i', 1, 50),\n",
        "                ('i', 2, 10),\n",
        "                ('i', 3, 40),\n",
        "                ('i', 4, 20),\n",
        "                ('i', 5, 90),\n",
        "                ('i', 6, 80),\n",
        "                ('i', 7, 30),\n",
        "                ('i', 8, 70),\n",
        "                ('i', 9, 60),\n",
        "                ('i', 10, 0),\n",
        "            ],\n",
        "            [ # verificaciones\n",
        "                ('raiz', 'Nodoi'),\n",
        "                ('raiz_der', 'Nodoe'),\n",
        "                ('raiz_izq', 'Nodoi'),\n",
        "                ('raiz_info', (10, 0)),\n",
        "                ('raiz_izq_info', (2, 10)),\n",
        "                ('raiz_izq_izq', 'Nodoi'),\n",
        "                ('raiz_izq_der', 'Nodoi'),\n",
        "                ('raiz_izq_izq_info', (1, 50)),\n",
        "                ('raiz_izq_der_info', (4, 20)),\n",
        "                ('raiz_izq_izq_izq', 'Nodoe'),\n",
        "                ('raiz_izq_izq_der', 'Nodoe'),\n",
        "                ('raiz_izq_der_izq', 'Nodoi'),\n",
        "                ('raiz_izq_der_der', 'Nodoi'),\n",
        "                ('raiz_izq_der_izq_info', (3, 40)),\n",
        "                ('raiz_izq_der_der_info', (7, 30)),\n",
        "                ('raiz_izq_der_izq_izq', 'Nodoe'),\n",
        "                ('raiz_izq_der_izq_der', 'Nodoe'),\n",
        "                ('raiz_izq_der_der_izq', 'Nodoi'),\n",
        "                ('raiz_izq_der_der_der', 'Nodoi'),\n",
        "                ('raiz_izq_der_der_izq_info', (6, 80)),\n",
        "                ('raiz_izq_der_der_der_info', (9, 60)),\n",
        "                ('raiz_izq_der_der_izq_izq', 'Nodoi'),\n",
        "                ('raiz_izq_der_der_izq_der', 'Nodoe'),\n",
        "                ('raiz_izq_der_der_der_izq', 'Nodoi'),\n",
        "                ('raiz_izq_der_der_der_der', 'Nodoe'),\n",
        "                ('raiz_izq_der_der_izq_izq_info', (5, 90)),\n",
        "                ('raiz_izq_der_der_der_izq_info', (8, 70)),\n",
        "                ('raiz_izq_der_der_izq_izq_izq', 'Nodoe'),\n",
        "                ('raiz_izq_der_der_izq_izq_der', 'Nodoe'),\n",
        "                ('raiz_izq_der_der_der_izq_izq', 'Nodoe'),\n",
        "                ('raiz_izq_der_der_der_izq_der', 'Nodoe'),\n",
        "            ]\n",
        "        ),\n",
        "        (\n",
        "            [ # instrucciones\n",
        "                ('d', 2),\n",
        "                ('d', 6),\n",
        "                ('d', 10),\n",
        "                ('d', 8),\n",
        "                ('d', 4)\n",
        "            ],\n",
        "            [ # verificaciones\n",
        "                ('raiz', 'Nodoi'),\n",
        "                ('raiz_der', 'Nodoi'),\n",
        "                ('raiz_izq', 'Nodoi'),\n",
        "                ('raiz_info', (7, 30)),\n",
        "                ('raiz_izq_info', (3, 40)),\n",
        "                ('raiz_izq_izq', 'Nodoi'),\n",
        "                ('raiz_izq_der', 'Nodoi'),\n",
        "                ('raiz_izq_izq_info', (1, 50)),\n",
        "                ('raiz_izq_der_info', (5, 90)),\n",
        "                ('raiz_izq_izq_izq', 'Nodoe'),\n",
        "                ('raiz_izq_izq_der', 'Nodoe'),\n",
        "                ('raiz_izq_der_izq', 'Nodoe'),\n",
        "                ('raiz_izq_der_der', 'Nodoe'),\n",
        "                ('raiz_der_info', (9, 60)),\n",
        "                ('raiz_der_izq', 'Nodoe'),\n",
        "                ('raiz_der_der', 'Nodoe'),\n",
        "            ]\n",
        "        )\n",
        "    )\n",
        "\n",
        "    feedback, history = [], []\n",
        "    arbol = None\n",
        "    for test, esperado in casos_prueba:\n",
        "        feedback = []\n",
        "\n",
        "        try:\n",
        "            arbol = interpret_tree(arbol, test, clase_arbol)\n",
        "        except Exception as e:\n",
        "            feedback.append(f\"[ERROR] (Test {casos_prueba.index(test)})\")\n",
        "            feedback.append(f\"    {e}\")\n",
        "            history.extend(feedback)\n",
        "            yield feedback\n",
        "            continue\n",
        "\n",
        "        answer = check_tree(arbol, esperado)\n",
        "        if answer is True:\n",
        "            continue\n",
        "\n",
        "        _, human_readable = answer\n",
        "        feedback.append(f\"[ERROR] (Test {casos_prueba.index(test)}) {test}\")\n",
        "        feedback.append(human_readable)\n",
        "        history.extend(feedback)\n",
        "        yield feedback\n",
        "\n",
        "    feedback = []\n",
        "    if not history:\n",
        "        feedback.append(\"Pasa todos los tests\")\n",
        "    yield feedback\n",
        "\n",
        "def findOccurrences(s:str, ch:str):\n",
        "    idxs = []\n",
        "    i = -1\n",
        "    while (i := s.find(ch, i+1)) != -1:\n",
        "        idxs.append(i)\n",
        "    return idxs\n",
        "\n",
        "def highlight_list_difference(gotten, expected):\n",
        "    gotten_str = str(gotten)\n",
        "    failure_idx = 0\n",
        "    for i, (r, e) in enumerate(zip(gotten, expected)):\n",
        "        if r != e:\n",
        "            failure_idx = i\n",
        "            break\n",
        "    sep_idx = [0]+findOccurrences(gotten_str, '],')\n",
        "    return f'    Diff idx:  {\" \"*(sep_idx[failure_idx]+2)}^'\n",
        "\n",
        "def interpret_tree(tree, instructions, tree_class):\n",
        "    try:\n",
        "        for instruction in instructions:\n",
        "            if instruction[0] == '*':\n",
        "                tree = tree_class()\n",
        "            elif instruction[0] == 'i':\n",
        "                tree.insert((instruction[1], instruction[2]))\n",
        "            elif instruction[0] == 'd':\n",
        "                tree.delete(instruction[1])\n",
        "    except Exception as e:\n",
        "        raise Exception(f'Error al construir arbol en {instruction}\\n\\n{e}')\n",
        "    return tree\n",
        "\n",
        "def read_sequence(sequence):\n",
        "    return sequence.split('_')\n",
        "\n",
        "def check_tree(tree, validations):\n",
        "    try:\n",
        "        for sequence, expected in validations:\n",
        "            steps = read_sequence(sequence)\n",
        "            place = tree\n",
        "            for i, step in enumerate(steps):\n",
        "                if step == 'raiz':\n",
        "                    place = place.raiz\n",
        "                elif step == 'izq':\n",
        "                    place = place.izq\n",
        "                elif step == 'der':\n",
        "                    place = place.der\n",
        "                elif step == 'info':\n",
        "                    place = place.info\n",
        "            if expected in ['Nodoe', 'Nodoi']:\n",
        "                if place.__class__.__name__ != expected:\n",
        "                    raise Exception(f'Expected node class {expected} got {place.__class__.__name__}')\n",
        "            elif isinstance(expected, tuple):\n",
        "                if place != expected:\n",
        "                    raise Exception(f'Expected {expected} got {place}')\n",
        "    except Exception as e:\n",
        "        sequence = sequence.replace('_', '.')\n",
        "        human_readable = ''\n",
        "        if 'object has no attribute' in str(e):\n",
        "            human_readable += f'    Construcción erronea en {sequence}\\n'\n",
        "        else:\n",
        "            human_readable += f'    Error en {sequence}\\n'\n",
        "        encontrado = place if isinstance(place, tuple) else place.__class__.__name__\n",
        "        human_readable += f'        Se esperaba encontrar {expected} tras {i} pasos en la secuencia {sequence}\\n'\n",
        "        human_readable += f'        Se encontró {encontrado} en su lugar y se lanzó el error \"{e}\"\\n'\n",
        "        return False, human_readable\n",
        "    return True\n",
        "\n",
        "\n",
        "def test(**kwargs):\n",
        "    if \"function\" in kwargs:\n",
        "        for feedback in tester_cartesiando(kwargs[\"function\"], **kwargs):\n",
        "            yield feedback\n",
        "    else:\n",
        "        print(\"No se ha encontrado el metodo Arbol.infijo\")\n",
        "        yield None\n",
        "\n",
        "\n",
        "if __name__ == '__main__':\n",
        "    pass\n",
        "\n",
        "for resultado in test(function=ArbolCartesiano, test_class=ArbolCartesiano):\n",
        "    if resultado:\n",
        "        for linea in resultado:\n",
        "            print(linea)\n"
      ],
      "metadata": {
        "id": "xib12WQ8DqGF"
      },
      "execution_count": null,
      "outputs": []
    }
  ]
}