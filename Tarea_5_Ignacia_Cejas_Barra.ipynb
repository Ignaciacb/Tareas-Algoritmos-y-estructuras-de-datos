{
  "nbformat": 4,
  "nbformat_minor": 0,
  "metadata": {
    "colab": {
      "provenance": [],
      "include_colab_link": true
    },
    "kernelspec": {
      "name": "python3",
      "display_name": "Python 3"
    },
    "language_info": {
      "name": "python"
    }
  },
  "cells": [
    {
      "cell_type": "markdown",
      "metadata": {
        "id": "view-in-github",
        "colab_type": "text"
      },
      "source": [
        "<a href=\"https://colab.research.google.com/github/Ignaciacb/Tareas-Algoritmos-y-estructuras-de-datos/blob/main/Tarea_5_Ignacia_Cejas_Barra.ipynb\" target=\"_parent\"><img src=\"https://colab.research.google.com/assets/colab-badge.svg\" alt=\"Open In Colab\"/></a>"
      ]
    },
    {
      "cell_type": "markdown",
      "metadata": {
        "id": "TuBrFz2U_Hth"
      },
      "source": [
        "# CC3001 Otoño 2025 Tarea 5 [Ignacia Cejas Barra]\n",
        "\n",
        "### Profesores\n",
        "Sección 1 Iván Sipirán •\n",
        "Sección 2 Nelson Baloian •\n",
        "Sección 3 Patricio Poblete\n"
      ]
    },
    {
      "cell_type": "markdown",
      "metadata": {
        "id": "vJsSzP2uyk39"
      },
      "source": [
        "# Heaps $k$-arios\n",
        "\n",
        "Un heap  $k$-ario es una generalización de los heaps binarios que vimos en cátedra. La diferencia es que un heap  $k$-ario con  $n$  elementos usa un árbol  $k$-ario balanceado perfecto representado en las  $n$  primeras posiciones de un arreglo. El siguiente es un ejemplo de un heap ternario ($k=3$, $n=9$):\n",
        "\n",
        "![3-heap](https://dcc.uchile.cl/ppoblete/cc3001/2023-2/3-heap.png)\n",
        "\n",
        "Las operaciones que deben implementar para este TDA son insertar un nuevo valor (``insert``) y extraer el máximo (``extract_max``).\n",
        "\n",
        "El objetivo de esta tarea es implementar heaps $k$-arios en forma de una clase de Python y luego utilizarla para ordenar un arreglo de datos."
      ]
    },
    {
      "cell_type": "markdown",
      "metadata": {
        "id": "8kY2A2e9yt7V"
      },
      "source": [
        "## Relación entre padre e hijos en un heap $k$-ario\n",
        "\n",
        "Recordemos que en un heap binario se tiene que\n",
        "\n",
        "$$\n",
        "\\begin{align}\n",
        "\\text{hijos del nodo }i &= \\{2i+1,2i+2\\} \\\\\n",
        "\\text{padre del nodo }j &= \\left\\lfloor \\frac{j-1}{2} \\right\\rfloor\n",
        "\\end{align}\n",
        "$$\n",
        "\n",
        "Escriba a continuación la relación análoga para un heap $k$-ario:\n",
        "\n",
        "$$\n",
        "\\begin{align}\n",
        "\\text{hijos del nodo }i &= k * i + n,    n \\in [1,k]  \\\\\n",
        "\\text{padre del nodo }j &= \\left\\lfloor \\frac{j-1}{k} \\right\\rfloor\n",
        "\\end{align}\n",
        "$$\n",
        "\n",
        "Para escribir estas relaciones, me basé en las relaciones que se tienen para un heap binario. Sabemos que un heap binario puede tener hasta 2 hijos cada nodo, en cambio, un heap k-ario puede tener hasta k hijos cada nodo, es por esto que en para las fórmulas de los heap k-arios partí intercambiando cada \"2\" por un \"k\", por esta misma razón, para la fórmula de los hijos del nodo i, ahora se deberán sumar valores desde 1 a k, en ves de sólo 1 y 2, pues ahora cada nodo tendrá hasta k hijos y no sólo hasta dos como era el caso del heap binario."
      ]
    },
    {
      "cell_type": "markdown",
      "source": [
        "## Implementación de la clase Heap\n",
        "\n",
        "El siguiente código implementa un heap binario. Usted debe modificarlo para que sea un heap $k$-ario, agregando el parámetro $k$ en ``__init__`` y utilizándolo en donde sea necesario."
      ],
      "metadata": {
        "id": "byFvKwG5Q7fP"
      }
    },
    {
      "cell_type": "code",
      "source": [
        "import numpy as np\n",
        "\n",
        "class Heap:\n",
        "    def __init__(self,k,maxn=100):\n",
        "        self.a=np.zeros(maxn) # Arreglo que almacenará los elementos del heap, de tamaño maxn = 100\n",
        "        self.k=k # Grado del heap (k-ario)\n",
        "        self.n=0 # Número actual de elementos en el heap\n",
        "\n",
        "    # Inicio cambiando todos los \"2\" por \"self.k\"\n",
        "\n",
        "    def trepar(self,j): # El elemento a[j] trepa hasta su nivel de prioridad\n",
        "        while j >= 1 and self.a[j] > self.a[(j-1) // self.k]:\n",
        "            (self.a[j],self.a[(j-1) // self.k])=(self.a[(j-1) // self.k],self.a[j]) # intercambiamos con el padre\n",
        "            j = (j-1) // self.k # subimos al lugar del padre\n",
        "\n",
        "    def hundir(self,j): # El elemento a[j] se hunde hasta su nivel de prioridad\n",
        "    # Ahora hay que comparar entre k hijos en cada nivel del heap\n",
        "\n",
        "        while self.k * j + 1 < self.n: # mientras tenga al menos 1 hijo\n",
        "            hijo_mayor = self.k * j + 1 # el hijo izquierdo, asumimos inicialmente que será el mayor\n",
        "\n",
        "            # Comparamos entre hijos para ver si existe uno con valor mayor que el hijo izquierdo, pues ahora tendremos k hijos\n",
        "            for hijo in range(self.k * j + 2, min(self.k * j + self.k + 1, self.n)): # Recorremos los demás hijos para encontrar aquel con el valor más grande\n",
        "              if self.a[hijo] > self.a[hijo_mayor]: # Si encuentra un hijo con valor mayor, actualiza la etiqueta de este como el nuevo hijo mayor\n",
        "                hijo_mayor = hijo\n",
        "\n",
        "            if self.a[j] >= self.a[hijo_mayor]: # Si el nodo a insertar es mayor o igual al hijo mayor, entonces se rompe el ciclo y no es necesario seguir hundiendo el elemento.\n",
        "                  break # Se termina de revisar, pues ya se cumple con las condiciones\n",
        "            else:\n",
        "              (self.a[j],self.a[hijo_mayor]) = (self.a[hijo_mayor],self.a[j]) # se intercambia el valor actual con el mayor de los hijos\n",
        "              j = hijo_mayor # bajamos al lugar del mayor de los hijos\n",
        "\n",
        "    def insert(self,x):\n",
        "        assert self.n<len(self.a)\n",
        "        self.a[self.n]=x\n",
        "        self.trepar(self.n)\n",
        "        self.n+=1\n",
        "\n",
        "    def extract_max(self):\n",
        "        assert self.n>0\n",
        "        x=self.a[0] # esta variable lleva el máximo, el casillero 0 queda vacante\n",
        "        self.n-=1   # achicamos el heap\n",
        "        self.a[0]=self.a[self.n] # movemos el elemento sobrante hacia el casillero vacante\n",
        "        self.hundir(0)\n",
        "        return x"
      ],
      "metadata": {
        "id": "8FZLmJeVH96Q"
      },
      "execution_count": null,
      "outputs": []
    },
    {
      "cell_type": "markdown",
      "metadata": {
        "id": "-_xXYgvs_Htw"
      },
      "source": [
        "## Un algoritmo de ordenación basado en un heap $k$-ario\n",
        "\n",
        "El siguiente código ordena un arreglo dado usando un heap $k$-ario."
      ]
    },
    {
      "cell_type": "code",
      "source": [
        "def Heapsort(a,k):\n",
        "    n=len(a)\n",
        "    h=Heap(k,n)\n",
        "    # Fase 1: insertamos los elementos en un heap\n",
        "    for i in range(0,n):\n",
        "        h.insert(a[i])\n",
        "    # Fase 2: extraemos el máximo sucesivamente\n",
        "    for i in range(n-1,-1,-1):\n",
        "        a[i]=h.extract_max()"
      ],
      "metadata": {
        "id": "U4ASHn-0RxtC"
      },
      "execution_count": null,
      "outputs": []
    },
    {
      "cell_type": "markdown",
      "source": [
        "# Probando el programa\n",
        "\n",
        "En primer lugar vamos a definir una función para chequear que un arreglo está ordenado:"
      ],
      "metadata": {
        "id": "s5-QiUcIpTWO"
      }
    },
    {
      "cell_type": "code",
      "source": [
        "def chequea_orden(a):\n",
        "    print(\"Arreglo de tamaño\",len(a),\":\",\"Ordenado\" if np.all(a[:-1]<=a[1:]) else \"Desordenado\")"
      ],
      "metadata": {
        "id": "y98sq9T_STH7"
      },
      "execution_count": null,
      "outputs": []
    },
    {
      "cell_type": "markdown",
      "source": [
        "A continuación hay una función que, dado un $k$, prueba el algoritmo de ordenación, primero con un arreglo pequeño, y luego con uno más grande."
      ],
      "metadata": {
        "id": "sPVexn3drgN1"
      }
    },
    {
      "cell_type": "code",
      "source": [
        "def probar(k):\n",
        "    a = np.random.random(12)\n",
        "    print(a)\n",
        "    chequea_orden(a)\n",
        "    Heapsort(a,k)\n",
        "    print(a)\n",
        "    chequea_orden(a)\n",
        "\n",
        "    a = np.random.random(1000)\n",
        "    chequea_orden(a)\n",
        "    Heapsort(a,k)\n",
        "    chequea_orden(a)"
      ],
      "metadata": {
        "id": "zcqR8NyESrvA"
      },
      "execution_count": null,
      "outputs": []
    },
    {
      "cell_type": "markdown",
      "source": [
        "A continuación probamos el algoritmo para $k=2$:"
      ],
      "metadata": {
        "id": "LnZM9b-1-E_7"
      }
    },
    {
      "cell_type": "code",
      "source": [
        "probar(2)"
      ],
      "metadata": {
        "colab": {
          "base_uri": "https://localhost:8080/"
        },
        "id": "MwirxAlA-Sn4",
        "outputId": "10139774-9003-4d54-e0b0-3702fd478a69"
      },
      "execution_count": null,
      "outputs": [
        {
          "output_type": "stream",
          "name": "stdout",
          "text": [
            "[0.52745725 0.47979053 0.44302237 0.0128199  0.94316443 0.07581921\n",
            " 0.32771542 0.87757896 0.32911686 0.57955992 0.64016788 0.34182834]\n",
            "Arreglo de tamaño 12 : Desordenado\n",
            "[0.0128199  0.07581921 0.32771542 0.32911686 0.34182834 0.44302237\n",
            " 0.47979053 0.52745725 0.57955992 0.64016788 0.87757896 0.94316443]\n",
            "Arreglo de tamaño 12 : Ordenado\n",
            "Arreglo de tamaño 1000 : Desordenado\n",
            "Arreglo de tamaño 1000 : Ordenado\n"
          ]
        }
      ]
    },
    {
      "cell_type": "markdown",
      "source": [
        "Y luego probamos para $k=4$:"
      ],
      "metadata": {
        "id": "Uy7s7e8Z-VW6"
      }
    },
    {
      "cell_type": "code",
      "source": [
        "probar(4)"
      ],
      "metadata": {
        "colab": {
          "base_uri": "https://localhost:8080/"
        },
        "id": "NLwEid7R-ZrL",
        "outputId": "c86d6ff4-9720-4a11-a13e-2634a5b2b78a"
      },
      "execution_count": null,
      "outputs": [
        {
          "output_type": "stream",
          "name": "stdout",
          "text": [
            "[0.56849076 0.98992894 0.33606598 0.57778399 0.11603212 0.8859552\n",
            " 0.70616283 0.23482441 0.71190951 0.4648664  0.73181241 0.12279592]\n",
            "Arreglo de tamaño 12 : Desordenado\n",
            "[0.11603212 0.12279592 0.23482441 0.33606598 0.4648664  0.56849076\n",
            " 0.57778399 0.70616283 0.71190951 0.73181241 0.8859552  0.98992894]\n",
            "Arreglo de tamaño 12 : Ordenado\n",
            "Arreglo de tamaño 1000 : Desordenado\n",
            "Arreglo de tamaño 1000 : Ordenado\n"
          ]
        }
      ]
    },
    {
      "cell_type": "markdown",
      "metadata": {
        "id": "v_UwExwo_HuW"
      },
      "source": [
        "## ¿Qué hay que entregar?\n",
        "\n",
        "Usted debe entregar este mismo archivo, modificado de acuerdo a lo que se pide. Puede usar solo la materia vista hasta la fecha. Documente adecuadamente su código. Cite todas las fuentes de información utilizadas. **No olvide poner su nombre en el encabezamiento**."
      ]
    }
  ]
}